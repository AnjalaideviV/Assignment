{
 "cells": [
  {
   "cell_type": "markdown",
   "id": "d00a76e9",
   "metadata": {},
   "source": [
    "## 1. CHI-SQUARE TEST"
   ]
  },
  {
   "cell_type": "code",
   "execution_count": 21,
   "id": "23360513",
   "metadata": {},
   "outputs": [],
   "source": [
    "import pandas as pd\n",
    "import numpy as np\n",
    "import scipy.stats as stats \n",
    "import math"
   ]
  },
  {
   "cell_type": "code",
   "execution_count": 22,
   "id": "254bd2f7",
   "metadata": {},
   "outputs": [
    {
     "data": {
      "text/html": [
       "<div>\n",
       "<style scoped>\n",
       "    .dataframe tbody tr th:only-of-type {\n",
       "        vertical-align: middle;\n",
       "    }\n",
       "\n",
       "    .dataframe tbody tr th {\n",
       "        vertical-align: top;\n",
       "    }\n",
       "\n",
       "    .dataframe thead th {\n",
       "        text-align: right;\n",
       "    }\n",
       "</style>\n",
       "<table border=\"1\" class=\"dataframe\">\n",
       "  <thead>\n",
       "    <tr style=\"text-align: right;\">\n",
       "      <th></th>\n",
       "      <th>Satisfaction</th>\n",
       "      <th>Smart Thermostat</th>\n",
       "      <th>Smart Light</th>\n",
       "      <th>Total</th>\n",
       "    </tr>\n",
       "  </thead>\n",
       "  <tbody>\n",
       "    <tr>\n",
       "      <th>0</th>\n",
       "      <td>Very Satisfied</td>\n",
       "      <td>50</td>\n",
       "      <td>70</td>\n",
       "      <td>120</td>\n",
       "    </tr>\n",
       "    <tr>\n",
       "      <th>1</th>\n",
       "      <td>Satisfied</td>\n",
       "      <td>80</td>\n",
       "      <td>100</td>\n",
       "      <td>180</td>\n",
       "    </tr>\n",
       "  </tbody>\n",
       "</table>\n",
       "</div>"
      ],
      "text/plain": [
       "     Satisfaction  Smart Thermostat  Smart Light  Total\n",
       "0  Very Satisfied                50           70    120\n",
       "1       Satisfied                80          100    180"
      ]
     },
     "execution_count": 22,
     "metadata": {},
     "output_type": "execute_result"
    }
   ],
   "source": [
    "data=pd.read_csv('customer satisfaction levels.csv')\n",
    "data.head(2)"
   ]
  },
  {
   "cell_type": "code",
   "execution_count": 23,
   "id": "d56e3766",
   "metadata": {},
   "outputs": [
    {
     "data": {
      "text/html": [
       "<div>\n",
       "<style scoped>\n",
       "    .dataframe tbody tr th:only-of-type {\n",
       "        vertical-align: middle;\n",
       "    }\n",
       "\n",
       "    .dataframe tbody tr th {\n",
       "        vertical-align: top;\n",
       "    }\n",
       "\n",
       "    .dataframe thead th {\n",
       "        text-align: right;\n",
       "    }\n",
       "</style>\n",
       "<table border=\"1\" class=\"dataframe\">\n",
       "  <thead>\n",
       "    <tr style=\"text-align: right;\">\n",
       "      <th></th>\n",
       "      <th>Satisfaction</th>\n",
       "      <th>Smart Thermostat</th>\n",
       "      <th>Smart Light</th>\n",
       "      <th>Total</th>\n",
       "    </tr>\n",
       "  </thead>\n",
       "  <tbody>\n",
       "    <tr>\n",
       "      <th>0</th>\n",
       "      <td>Very Satisfied</td>\n",
       "      <td>50</td>\n",
       "      <td>70</td>\n",
       "      <td>120</td>\n",
       "    </tr>\n",
       "    <tr>\n",
       "      <th>1</th>\n",
       "      <td>Satisfied</td>\n",
       "      <td>80</td>\n",
       "      <td>100</td>\n",
       "      <td>180</td>\n",
       "    </tr>\n",
       "    <tr>\n",
       "      <th>2</th>\n",
       "      <td>Neutral</td>\n",
       "      <td>60</td>\n",
       "      <td>90</td>\n",
       "      <td>150</td>\n",
       "    </tr>\n",
       "    <tr>\n",
       "      <th>3</th>\n",
       "      <td>Unsatisfied</td>\n",
       "      <td>30</td>\n",
       "      <td>50</td>\n",
       "      <td>80</td>\n",
       "    </tr>\n",
       "    <tr>\n",
       "      <th>4</th>\n",
       "      <td>Very Unsatisfied</td>\n",
       "      <td>20</td>\n",
       "      <td>50</td>\n",
       "      <td>70</td>\n",
       "    </tr>\n",
       "  </tbody>\n",
       "</table>\n",
       "</div>"
      ],
      "text/plain": [
       "       Satisfaction  Smart Thermostat  Smart Light  Total\n",
       "0    Very Satisfied                50           70    120\n",
       "1         Satisfied                80          100    180\n",
       "2           Neutral                60           90    150\n",
       "3       Unsatisfied                30           50     80\n",
       "4  Very Unsatisfied                20           50     70"
      ]
     },
     "execution_count": 23,
     "metadata": {},
     "output_type": "execute_result"
    }
   ],
   "source": [
    "df=data.iloc[:-1]\n",
    "df"
   ]
  },
  {
   "cell_type": "code",
   "execution_count": 24,
   "id": "3588277f",
   "metadata": {},
   "outputs": [
    {
     "data": {
      "text/plain": [
       "array([[ 50,  70],\n",
       "       [ 80, 100],\n",
       "       [ 60,  90],\n",
       "       [ 30,  50],\n",
       "       [ 20,  50]], dtype=int64)"
      ]
     },
     "execution_count": 24,
     "metadata": {},
     "output_type": "execute_result"
    }
   ],
   "source": [
    "df1=df[['Smart Thermostat', 'Smart Light']].values\n",
    "df1"
   ]
  },
  {
   "cell_type": "code",
   "execution_count": 25,
   "id": "90b52f46",
   "metadata": {},
   "outputs": [],
   "source": [
    "chi2,p_value,dof,expected=stats.chi2_contingency(df1)"
   ]
  },
  {
   "cell_type": "code",
   "execution_count": 26,
   "id": "0234d2a1",
   "metadata": {},
   "outputs": [
    {
     "name": "stdout",
     "output_type": "stream",
     "text": [
      "\n",
      "Chi-square Statistic: 5.638227513227513\n",
      "p-value: 0.22784371130697179\n",
      "Degrees of Freedom: 4\n",
      "Expected Frequencies:\n",
      "[[ 48.  72.]\n",
      " [ 72. 108.]\n",
      " [ 60.  90.]\n",
      " [ 32.  48.]\n",
      " [ 28.  42.]]\n"
     ]
    }
   ],
   "source": [
    "print(\"\\nChi-square Statistic:\", chi2)\n",
    "print(\"p-value:\", p_value)\n",
    "print(\"Degrees of Freedom:\", dof)\n",
    "print(\"Expected Frequencies:\")\n",
    "print(expected)"
   ]
  },
  {
   "cell_type": "raw",
   "id": "696d87b6",
   "metadata": {},
   "source": [
    "Conclusion:\n",
    "\n",
    "alpha = 0.05\n",
    "p_value= 0.227\n",
    "\n",
    "  p_value >alpha\n",
    "There is no significant association between the type of smart device and satisfaction levels (fail to reject H0).\n"
   ]
  },
  {
   "cell_type": "markdown",
   "id": "83848477",
   "metadata": {},
   "source": [
    "## 2.HYPOTHESIS TESTING"
   ]
  },
  {
   "cell_type": "raw",
   "id": "6e1910a4",
   "metadata": {},
   "source": [
    "Use the following formula to calculate the test statistic (t):\n",
    "where:\n",
    "•\tˉxˉ = sample mean weekly cost (Rs. 3,050)\n",
    "•\tμ = theoretical mean weekly cost according to the cost model (W = $1,000 + $5X for X = 600 units)\n",
    "•\tσ = 5*25 units\n",
    "•\tn = sample size (25 restaurants)\n"
   ]
  },
  {
   "cell_type": "code",
   "execution_count": 32,
   "id": "efe98d4c",
   "metadata": {},
   "outputs": [],
   "source": [
    "# Solution \n",
    "sample_mean = 3050\n",
    "theoretical_mean = 1000 + 5 * 600\n",
    "std_dev = 5 * 25\n",
    "sample_size = 25\n",
    "\n",
    "# Hypotheses Statement:\n",
    "# Null Hypothesis (H0):The mean weekly operating cost is equal to the theoretical mean cost\n",
    "#                  H0: 𝜇 = 4000\n",
    "\n",
    "# Alternative Hypothesis (H1):TThe mean weekly operating cost is higher than the theoretical mean cost\n",
    "#                  H1: 𝜇 > 4000\n"
   ]
  },
  {
   "cell_type": "code",
   "execution_count": 33,
   "id": "54e55ac9",
   "metadata": {},
   "outputs": [
    {
     "data": {
      "text/plain": [
       "-38.0"
      ]
     },
     "execution_count": 33,
     "metadata": {},
     "output_type": "execute_result"
    }
   ],
   "source": [
    "test_statistic = (sample_mean - theoretical_mean) / (std_dev / math.sqrt(sample_size))\n",
    "test_statistic"
   ]
  },
  {
   "cell_type": "code",
   "execution_count": 34,
   "id": "6b77e87d",
   "metadata": {},
   "outputs": [
    {
     "data": {
      "text/plain": [
       "1.6448536269514722"
      ]
     },
     "execution_count": 34,
     "metadata": {},
     "output_type": "execute_result"
    }
   ],
   "source": [
    "alpha = 0.05\n",
    "\n",
    "critical_value = stats.norm.ppf(1 - alpha)\n",
    "critical_value"
   ]
  },
  {
   "cell_type": "code",
   "execution_count": 35,
   "id": "0a30d2a6",
   "metadata": {
    "scrolled": true
   },
   "outputs": [
    {
     "name": "stdout",
     "output_type": "stream",
     "text": [
      "Sample Mean: 3050\n",
      "Theoretical Mean: 4000\n",
      "Standard Deviation: 125\n",
      "Sample Size: 25\n",
      "Test Statistic (t): -38.0\n",
      "Critical Value (z): 1.6448536269514722\n"
     ]
    }
   ],
   "source": [
    "print(\"Sample Mean:\", sample_mean)\n",
    "print(\"Theoretical Mean:\", theoretical_mean)\n",
    "print(\"Standard Deviation:\", sigma)\n",
    "print(\"Sample Size:\", sample_size)\n",
    "print(\"Test Statistic (t):\", test_statistic)\n",
    "print(\"Critical Value (z):\", critical_value)"
   ]
  },
  {
   "cell_type": "raw",
   "id": "6b5f1157",
   "metadata": {},
   "source": [
    "Conclusion:\n",
    "\n",
    "Test Statistic : -38.0\n",
    "Critical Value : 1.6448536269514722\n",
    "\n",
    " −38.0 is less than 1.6448536269514722 we do not reject the null hypothesis. \n",
    "there is no strong evidence to support the restaurant owners' claim that the weekly operating costs are higher than the model suggests."
   ]
  },
  {
   "cell_type": "code",
   "execution_count": null,
   "id": "bc5c8723",
   "metadata": {},
   "outputs": [],
   "source": []
  },
  {
   "cell_type": "code",
   "execution_count": null,
   "id": "213f3601",
   "metadata": {},
   "outputs": [],
   "source": []
  },
  {
   "cell_type": "code",
   "execution_count": null,
   "id": "854fa8d6",
   "metadata": {},
   "outputs": [],
   "source": []
  },
  {
   "cell_type": "code",
   "execution_count": null,
   "id": "7bf760da",
   "metadata": {},
   "outputs": [],
   "source": []
  }
 ],
 "metadata": {
  "kernelspec": {
   "display_name": "Python 3 (ipykernel)",
   "language": "python",
   "name": "python3"
  },
  "language_info": {
   "codemirror_mode": {
    "name": "ipython",
    "version": 3
   },
   "file_extension": ".py",
   "mimetype": "text/x-python",
   "name": "python",
   "nbconvert_exporter": "python",
   "pygments_lexer": "ipython3",
   "version": "3.11.5"
  }
 },
 "nbformat": 4,
 "nbformat_minor": 5
}
