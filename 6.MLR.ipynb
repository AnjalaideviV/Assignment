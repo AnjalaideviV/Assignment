{
 "cells": [
  {
   "cell_type": "code",
   "execution_count": 1,
   "id": "af0e3b3d",
   "metadata": {},
   "outputs": [],
   "source": [
    "import pandas as pd\n",
    "import numpy as np\n",
    "import matplotlib.pyplot as plt\n",
    "import warnings\n",
    "warnings.filterwarnings('ignore')"
   ]
  },
  {
   "cell_type": "code",
   "execution_count": 2,
   "id": "6c371bb4",
   "metadata": {},
   "outputs": [
    {
     "data": {
      "text/html": [
       "<div>\n",
       "<style scoped>\n",
       "    .dataframe tbody tr th:only-of-type {\n",
       "        vertical-align: middle;\n",
       "    }\n",
       "\n",
       "    .dataframe tbody tr th {\n",
       "        vertical-align: top;\n",
       "    }\n",
       "\n",
       "    .dataframe thead th {\n",
       "        text-align: right;\n",
       "    }\n",
       "</style>\n",
       "<table border=\"1\" class=\"dataframe\">\n",
       "  <thead>\n",
       "    <tr style=\"text-align: right;\">\n",
       "      <th></th>\n",
       "      <th>Price</th>\n",
       "      <th>Age_08_04</th>\n",
       "      <th>KM</th>\n",
       "      <th>Fuel_Type</th>\n",
       "      <th>HP</th>\n",
       "      <th>Automatic</th>\n",
       "      <th>cc</th>\n",
       "      <th>Doors</th>\n",
       "      <th>Cylinders</th>\n",
       "      <th>Gears</th>\n",
       "      <th>Weight</th>\n",
       "    </tr>\n",
       "  </thead>\n",
       "  <tbody>\n",
       "    <tr>\n",
       "      <th>0</th>\n",
       "      <td>13500</td>\n",
       "      <td>23</td>\n",
       "      <td>46986</td>\n",
       "      <td>Diesel</td>\n",
       "      <td>90</td>\n",
       "      <td>0</td>\n",
       "      <td>2000</td>\n",
       "      <td>3</td>\n",
       "      <td>4</td>\n",
       "      <td>5</td>\n",
       "      <td>1165</td>\n",
       "    </tr>\n",
       "    <tr>\n",
       "      <th>1</th>\n",
       "      <td>13750</td>\n",
       "      <td>23</td>\n",
       "      <td>72937</td>\n",
       "      <td>Diesel</td>\n",
       "      <td>90</td>\n",
       "      <td>0</td>\n",
       "      <td>2000</td>\n",
       "      <td>3</td>\n",
       "      <td>4</td>\n",
       "      <td>5</td>\n",
       "      <td>1165</td>\n",
       "    </tr>\n",
       "    <tr>\n",
       "      <th>2</th>\n",
       "      <td>13950</td>\n",
       "      <td>24</td>\n",
       "      <td>41711</td>\n",
       "      <td>Diesel</td>\n",
       "      <td>90</td>\n",
       "      <td>0</td>\n",
       "      <td>2000</td>\n",
       "      <td>3</td>\n",
       "      <td>4</td>\n",
       "      <td>5</td>\n",
       "      <td>1165</td>\n",
       "    </tr>\n",
       "    <tr>\n",
       "      <th>3</th>\n",
       "      <td>14950</td>\n",
       "      <td>26</td>\n",
       "      <td>48000</td>\n",
       "      <td>Diesel</td>\n",
       "      <td>90</td>\n",
       "      <td>0</td>\n",
       "      <td>2000</td>\n",
       "      <td>3</td>\n",
       "      <td>4</td>\n",
       "      <td>5</td>\n",
       "      <td>1165</td>\n",
       "    </tr>\n",
       "    <tr>\n",
       "      <th>4</th>\n",
       "      <td>13750</td>\n",
       "      <td>30</td>\n",
       "      <td>38500</td>\n",
       "      <td>Diesel</td>\n",
       "      <td>90</td>\n",
       "      <td>0</td>\n",
       "      <td>2000</td>\n",
       "      <td>3</td>\n",
       "      <td>4</td>\n",
       "      <td>5</td>\n",
       "      <td>1170</td>\n",
       "    </tr>\n",
       "    <tr>\n",
       "      <th>...</th>\n",
       "      <td>...</td>\n",
       "      <td>...</td>\n",
       "      <td>...</td>\n",
       "      <td>...</td>\n",
       "      <td>...</td>\n",
       "      <td>...</td>\n",
       "      <td>...</td>\n",
       "      <td>...</td>\n",
       "      <td>...</td>\n",
       "      <td>...</td>\n",
       "      <td>...</td>\n",
       "    </tr>\n",
       "    <tr>\n",
       "      <th>1431</th>\n",
       "      <td>7500</td>\n",
       "      <td>69</td>\n",
       "      <td>20544</td>\n",
       "      <td>Petrol</td>\n",
       "      <td>86</td>\n",
       "      <td>0</td>\n",
       "      <td>1300</td>\n",
       "      <td>3</td>\n",
       "      <td>4</td>\n",
       "      <td>5</td>\n",
       "      <td>1025</td>\n",
       "    </tr>\n",
       "    <tr>\n",
       "      <th>1432</th>\n",
       "      <td>10845</td>\n",
       "      <td>72</td>\n",
       "      <td>19000</td>\n",
       "      <td>Petrol</td>\n",
       "      <td>86</td>\n",
       "      <td>0</td>\n",
       "      <td>1300</td>\n",
       "      <td>3</td>\n",
       "      <td>4</td>\n",
       "      <td>5</td>\n",
       "      <td>1015</td>\n",
       "    </tr>\n",
       "    <tr>\n",
       "      <th>1433</th>\n",
       "      <td>8500</td>\n",
       "      <td>71</td>\n",
       "      <td>17016</td>\n",
       "      <td>Petrol</td>\n",
       "      <td>86</td>\n",
       "      <td>0</td>\n",
       "      <td>1300</td>\n",
       "      <td>3</td>\n",
       "      <td>4</td>\n",
       "      <td>5</td>\n",
       "      <td>1015</td>\n",
       "    </tr>\n",
       "    <tr>\n",
       "      <th>1434</th>\n",
       "      <td>7250</td>\n",
       "      <td>70</td>\n",
       "      <td>16916</td>\n",
       "      <td>Petrol</td>\n",
       "      <td>86</td>\n",
       "      <td>0</td>\n",
       "      <td>1300</td>\n",
       "      <td>3</td>\n",
       "      <td>4</td>\n",
       "      <td>5</td>\n",
       "      <td>1015</td>\n",
       "    </tr>\n",
       "    <tr>\n",
       "      <th>1435</th>\n",
       "      <td>6950</td>\n",
       "      <td>76</td>\n",
       "      <td>1</td>\n",
       "      <td>Petrol</td>\n",
       "      <td>110</td>\n",
       "      <td>0</td>\n",
       "      <td>1600</td>\n",
       "      <td>5</td>\n",
       "      <td>4</td>\n",
       "      <td>5</td>\n",
       "      <td>1114</td>\n",
       "    </tr>\n",
       "  </tbody>\n",
       "</table>\n",
       "<p>1436 rows × 11 columns</p>\n",
       "</div>"
      ],
      "text/plain": [
       "      Price  Age_08_04     KM Fuel_Type   HP  Automatic    cc  Doors  \\\n",
       "0     13500         23  46986    Diesel   90          0  2000      3   \n",
       "1     13750         23  72937    Diesel   90          0  2000      3   \n",
       "2     13950         24  41711    Diesel   90          0  2000      3   \n",
       "3     14950         26  48000    Diesel   90          0  2000      3   \n",
       "4     13750         30  38500    Diesel   90          0  2000      3   \n",
       "...     ...        ...    ...       ...  ...        ...   ...    ...   \n",
       "1431   7500         69  20544    Petrol   86          0  1300      3   \n",
       "1432  10845         72  19000    Petrol   86          0  1300      3   \n",
       "1433   8500         71  17016    Petrol   86          0  1300      3   \n",
       "1434   7250         70  16916    Petrol   86          0  1300      3   \n",
       "1435   6950         76      1    Petrol  110          0  1600      5   \n",
       "\n",
       "      Cylinders  Gears  Weight  \n",
       "0             4      5    1165  \n",
       "1             4      5    1165  \n",
       "2             4      5    1165  \n",
       "3             4      5    1165  \n",
       "4             4      5    1170  \n",
       "...         ...    ...     ...  \n",
       "1431          4      5    1025  \n",
       "1432          4      5    1015  \n",
       "1433          4      5    1015  \n",
       "1434          4      5    1015  \n",
       "1435          4      5    1114  \n",
       "\n",
       "[1436 rows x 11 columns]"
      ]
     },
     "execution_count": 2,
     "metadata": {},
     "output_type": "execute_result"
    }
   ],
   "source": [
    "df=pd.read_csv('ToyotaCorolla - MLR.csv')\n",
    "df"
   ]
  },
  {
   "cell_type": "code",
   "execution_count": 3,
   "id": "b23a2469",
   "metadata": {},
   "outputs": [
    {
     "data": {
      "text/plain": [
       "(1436, 11)"
      ]
     },
     "execution_count": 3,
     "metadata": {},
     "output_type": "execute_result"
    }
   ],
   "source": [
    "df.shape\n"
   ]
  },
  {
   "cell_type": "code",
   "execution_count": 4,
   "id": "994b7347",
   "metadata": {},
   "outputs": [
    {
     "name": "stdout",
     "output_type": "stream",
     "text": [
      "<class 'pandas.core.frame.DataFrame'>\n",
      "RangeIndex: 1436 entries, 0 to 1435\n",
      "Data columns (total 11 columns):\n",
      " #   Column     Non-Null Count  Dtype \n",
      "---  ------     --------------  ----- \n",
      " 0   Price      1436 non-null   int64 \n",
      " 1   Age_08_04  1436 non-null   int64 \n",
      " 2   KM         1436 non-null   int64 \n",
      " 3   Fuel_Type  1436 non-null   object\n",
      " 4   HP         1436 non-null   int64 \n",
      " 5   Automatic  1436 non-null   int64 \n",
      " 6   cc         1436 non-null   int64 \n",
      " 7   Doors      1436 non-null   int64 \n",
      " 8   Cylinders  1436 non-null   int64 \n",
      " 9   Gears      1436 non-null   int64 \n",
      " 10  Weight     1436 non-null   int64 \n",
      "dtypes: int64(10), object(1)\n",
      "memory usage: 123.5+ KB\n"
     ]
    }
   ],
   "source": [
    "df.info()"
   ]
  },
  {
   "cell_type": "code",
   "execution_count": 5,
   "id": "953b1484",
   "metadata": {},
   "outputs": [
    {
     "data": {
      "text/plain": [
       "Price        0\n",
       "Age_08_04    0\n",
       "KM           0\n",
       "Fuel_Type    0\n",
       "HP           0\n",
       "Automatic    0\n",
       "cc           0\n",
       "Doors        0\n",
       "Cylinders    0\n",
       "Gears        0\n",
       "Weight       0\n",
       "dtype: int64"
      ]
     },
     "execution_count": 5,
     "metadata": {},
     "output_type": "execute_result"
    }
   ],
   "source": [
    "df.isnull().sum()"
   ]
  },
  {
   "cell_type": "code",
   "execution_count": 6,
   "id": "22b37097",
   "metadata": {},
   "outputs": [
    {
     "data": {
      "text/plain": [
       "1"
      ]
     },
     "execution_count": 6,
     "metadata": {},
     "output_type": "execute_result"
    }
   ],
   "source": [
    "df.duplicated().sum()"
   ]
  },
  {
   "cell_type": "code",
   "execution_count": 7,
   "id": "b18bc282",
   "metadata": {},
   "outputs": [
    {
     "data": {
      "text/html": [
       "<div>\n",
       "<style scoped>\n",
       "    .dataframe tbody tr th:only-of-type {\n",
       "        vertical-align: middle;\n",
       "    }\n",
       "\n",
       "    .dataframe tbody tr th {\n",
       "        vertical-align: top;\n",
       "    }\n",
       "\n",
       "    .dataframe thead th {\n",
       "        text-align: right;\n",
       "    }\n",
       "</style>\n",
       "<table border=\"1\" class=\"dataframe\">\n",
       "  <thead>\n",
       "    <tr style=\"text-align: right;\">\n",
       "      <th></th>\n",
       "      <th>Price</th>\n",
       "      <th>Age_08_04</th>\n",
       "      <th>KM</th>\n",
       "      <th>Fuel_Type</th>\n",
       "      <th>HP</th>\n",
       "      <th>Automatic</th>\n",
       "      <th>cc</th>\n",
       "      <th>Doors</th>\n",
       "      <th>Cylinders</th>\n",
       "      <th>Gears</th>\n",
       "      <th>Weight</th>\n",
       "    </tr>\n",
       "  </thead>\n",
       "  <tbody>\n",
       "    <tr>\n",
       "      <th>113</th>\n",
       "      <td>24950</td>\n",
       "      <td>8</td>\n",
       "      <td>13253</td>\n",
       "      <td>Diesel</td>\n",
       "      <td>116</td>\n",
       "      <td>0</td>\n",
       "      <td>2000</td>\n",
       "      <td>5</td>\n",
       "      <td>4</td>\n",
       "      <td>5</td>\n",
       "      <td>1320</td>\n",
       "    </tr>\n",
       "  </tbody>\n",
       "</table>\n",
       "</div>"
      ],
      "text/plain": [
       "     Price  Age_08_04     KM Fuel_Type   HP  Automatic    cc  Doors  \\\n",
       "113  24950          8  13253    Diesel  116          0  2000      5   \n",
       "\n",
       "     Cylinders  Gears  Weight  \n",
       "113          4      5    1320  "
      ]
     },
     "execution_count": 7,
     "metadata": {},
     "output_type": "execute_result"
    }
   ],
   "source": [
    "duplicated_rows=df[df.duplicated()]\n",
    "duplicated_rows"
   ]
  },
  {
   "cell_type": "code",
   "execution_count": 8,
   "id": "bacf6f91",
   "metadata": {},
   "outputs": [
    {
     "data": {
      "text/html": [
       "<div>\n",
       "<style scoped>\n",
       "    .dataframe tbody tr th:only-of-type {\n",
       "        vertical-align: middle;\n",
       "    }\n",
       "\n",
       "    .dataframe tbody tr th {\n",
       "        vertical-align: top;\n",
       "    }\n",
       "\n",
       "    .dataframe thead th {\n",
       "        text-align: right;\n",
       "    }\n",
       "</style>\n",
       "<table border=\"1\" class=\"dataframe\">\n",
       "  <thead>\n",
       "    <tr style=\"text-align: right;\">\n",
       "      <th></th>\n",
       "      <th>Price</th>\n",
       "      <th>Age_08_04</th>\n",
       "      <th>KM</th>\n",
       "      <th>Fuel_Type</th>\n",
       "      <th>HP</th>\n",
       "      <th>Automatic</th>\n",
       "      <th>cc</th>\n",
       "      <th>Doors</th>\n",
       "      <th>Cylinders</th>\n",
       "      <th>Gears</th>\n",
       "      <th>Weight</th>\n",
       "    </tr>\n",
       "  </thead>\n",
       "  <tbody>\n",
       "    <tr>\n",
       "      <th>110</th>\n",
       "      <td>31000</td>\n",
       "      <td>4</td>\n",
       "      <td>4000</td>\n",
       "      <td>Diesel</td>\n",
       "      <td>116</td>\n",
       "      <td>0</td>\n",
       "      <td>2000</td>\n",
       "      <td>5</td>\n",
       "      <td>4</td>\n",
       "      <td>5</td>\n",
       "      <td>1480</td>\n",
       "    </tr>\n",
       "    <tr>\n",
       "      <th>111</th>\n",
       "      <td>31275</td>\n",
       "      <td>4</td>\n",
       "      <td>1500</td>\n",
       "      <td>Diesel</td>\n",
       "      <td>116</td>\n",
       "      <td>0</td>\n",
       "      <td>2000</td>\n",
       "      <td>5</td>\n",
       "      <td>4</td>\n",
       "      <td>5</td>\n",
       "      <td>1480</td>\n",
       "    </tr>\n",
       "    <tr>\n",
       "      <th>112</th>\n",
       "      <td>24950</td>\n",
       "      <td>8</td>\n",
       "      <td>13253</td>\n",
       "      <td>Diesel</td>\n",
       "      <td>116</td>\n",
       "      <td>0</td>\n",
       "      <td>2000</td>\n",
       "      <td>5</td>\n",
       "      <td>4</td>\n",
       "      <td>5</td>\n",
       "      <td>1320</td>\n",
       "    </tr>\n",
       "    <tr>\n",
       "      <th>113</th>\n",
       "      <td>24950</td>\n",
       "      <td>8</td>\n",
       "      <td>13253</td>\n",
       "      <td>Diesel</td>\n",
       "      <td>116</td>\n",
       "      <td>0</td>\n",
       "      <td>2000</td>\n",
       "      <td>5</td>\n",
       "      <td>4</td>\n",
       "      <td>5</td>\n",
       "      <td>1320</td>\n",
       "    </tr>\n",
       "    <tr>\n",
       "      <th>114</th>\n",
       "      <td>22950</td>\n",
       "      <td>7</td>\n",
       "      <td>10000</td>\n",
       "      <td>Diesel</td>\n",
       "      <td>116</td>\n",
       "      <td>0</td>\n",
       "      <td>2000</td>\n",
       "      <td>5</td>\n",
       "      <td>4</td>\n",
       "      <td>5</td>\n",
       "      <td>1270</td>\n",
       "    </tr>\n",
       "  </tbody>\n",
       "</table>\n",
       "</div>"
      ],
      "text/plain": [
       "     Price  Age_08_04     KM Fuel_Type   HP  Automatic    cc  Doors  \\\n",
       "110  31000          4   4000    Diesel  116          0  2000      5   \n",
       "111  31275          4   1500    Diesel  116          0  2000      5   \n",
       "112  24950          8  13253    Diesel  116          0  2000      5   \n",
       "113  24950          8  13253    Diesel  116          0  2000      5   \n",
       "114  22950          7  10000    Diesel  116          0  2000      5   \n",
       "\n",
       "     Cylinders  Gears  Weight  \n",
       "110          4      5    1480  \n",
       "111          4      5    1480  \n",
       "112          4      5    1320  \n",
       "113          4      5    1320  \n",
       "114          4      5    1270  "
      ]
     },
     "execution_count": 8,
     "metadata": {},
     "output_type": "execute_result"
    }
   ],
   "source": [
    "dup=df.iloc[110:115]\n",
    "dup"
   ]
  },
  {
   "cell_type": "code",
   "execution_count": 9,
   "id": "6a836002",
   "metadata": {},
   "outputs": [
    {
     "data": {
      "text/html": [
       "<div>\n",
       "<style scoped>\n",
       "    .dataframe tbody tr th:only-of-type {\n",
       "        vertical-align: middle;\n",
       "    }\n",
       "\n",
       "    .dataframe tbody tr th {\n",
       "        vertical-align: top;\n",
       "    }\n",
       "\n",
       "    .dataframe thead th {\n",
       "        text-align: right;\n",
       "    }\n",
       "</style>\n",
       "<table border=\"1\" class=\"dataframe\">\n",
       "  <thead>\n",
       "    <tr style=\"text-align: right;\">\n",
       "      <th></th>\n",
       "      <th>Price</th>\n",
       "      <th>Age_08_04</th>\n",
       "      <th>KM</th>\n",
       "      <th>Fuel_Type</th>\n",
       "      <th>HP</th>\n",
       "      <th>Automatic</th>\n",
       "      <th>cc</th>\n",
       "      <th>Doors</th>\n",
       "      <th>Cylinders</th>\n",
       "      <th>Gears</th>\n",
       "      <th>Weight</th>\n",
       "    </tr>\n",
       "  </thead>\n",
       "  <tbody>\n",
       "    <tr>\n",
       "      <th>0</th>\n",
       "      <td>13500</td>\n",
       "      <td>23</td>\n",
       "      <td>46986</td>\n",
       "      <td>Diesel</td>\n",
       "      <td>90</td>\n",
       "      <td>0</td>\n",
       "      <td>2000</td>\n",
       "      <td>3</td>\n",
       "      <td>4</td>\n",
       "      <td>5</td>\n",
       "      <td>1165</td>\n",
       "    </tr>\n",
       "    <tr>\n",
       "      <th>1</th>\n",
       "      <td>13750</td>\n",
       "      <td>23</td>\n",
       "      <td>72937</td>\n",
       "      <td>Diesel</td>\n",
       "      <td>90</td>\n",
       "      <td>0</td>\n",
       "      <td>2000</td>\n",
       "      <td>3</td>\n",
       "      <td>4</td>\n",
       "      <td>5</td>\n",
       "      <td>1165</td>\n",
       "    </tr>\n",
       "  </tbody>\n",
       "</table>\n",
       "</div>"
      ],
      "text/plain": [
       "   Price  Age_08_04     KM Fuel_Type  HP  Automatic    cc  Doors  Cylinders  \\\n",
       "0  13500         23  46986    Diesel  90          0  2000      3          4   \n",
       "1  13750         23  72937    Diesel  90          0  2000      3          4   \n",
       "\n",
       "   Gears  Weight  \n",
       "0      5    1165  \n",
       "1      5    1165  "
      ]
     },
     "execution_count": 9,
     "metadata": {},
     "output_type": "execute_result"
    }
   ],
   "source": [
    "data=df.drop_duplicates()\n",
    "data.head(2)\n"
   ]
  },
  {
   "cell_type": "code",
   "execution_count": 10,
   "id": "aa56a2fd",
   "metadata": {},
   "outputs": [
    {
     "data": {
      "text/plain": [
       "0"
      ]
     },
     "execution_count": 10,
     "metadata": {},
     "output_type": "execute_result"
    }
   ],
   "source": [
    "data.duplicated().sum()"
   ]
  },
  {
   "cell_type": "code",
   "execution_count": 11,
   "id": "c302b030",
   "metadata": {},
   "outputs": [
    {
     "data": {
      "text/plain": [
       "0       1\n",
       "1       1\n",
       "2       1\n",
       "3       1\n",
       "4       1\n",
       "       ..\n",
       "1431    2\n",
       "1432    2\n",
       "1433    2\n",
       "1434    2\n",
       "1435    2\n",
       "Name: Fuel_Type, Length: 1435, dtype: int8"
      ]
     },
     "execution_count": 11,
     "metadata": {},
     "output_type": "execute_result"
    }
   ],
   "source": [
    "data['Fuel_Type']=data['Fuel_Type'].astype('category')\n",
    "data['Fuel_Type']=data['Fuel_Type'].cat.codes\n",
    "\n",
    "data['Fuel_Type']"
   ]
  },
  {
   "cell_type": "code",
   "execution_count": 12,
   "id": "6b4c40f2",
   "metadata": {},
   "outputs": [
    {
     "name": "stdout",
     "output_type": "stream",
     "text": [
      "      Price\n",
      "0     13500\n",
      "1     13750\n",
      "2     13950\n",
      "3     14950\n",
      "4     13750\n",
      "...     ...\n",
      "1431   7500\n",
      "1432  10845\n",
      "1433   8500\n",
      "1434   7250\n",
      "1435   6950\n",
      "\n",
      "[1435 rows x 1 columns]\n"
     ]
    }
   ],
   "source": [
    "target=data[['Price']]\n",
    "print(target)"
   ]
  },
  {
   "cell_type": "code",
   "execution_count": 13,
   "id": "d4d7bbcb",
   "metadata": {},
   "outputs": [
    {
     "name": "stdout",
     "output_type": "stream",
     "text": [
      "      Age_08_04     KM  Fuel_Type   HP  Automatic    cc  Doors  Cylinders  \\\n",
      "0            23  46986          1   90          0  2000      3          4   \n",
      "1            23  72937          1   90          0  2000      3          4   \n",
      "2            24  41711          1   90          0  2000      3          4   \n",
      "3            26  48000          1   90          0  2000      3          4   \n",
      "4            30  38500          1   90          0  2000      3          4   \n",
      "...         ...    ...        ...  ...        ...   ...    ...        ...   \n",
      "1431         69  20544          2   86          0  1300      3          4   \n",
      "1432         72  19000          2   86          0  1300      3          4   \n",
      "1433         71  17016          2   86          0  1300      3          4   \n",
      "1434         70  16916          2   86          0  1300      3          4   \n",
      "1435         76      1          2  110          0  1600      5          4   \n",
      "\n",
      "      Gears  Weight  \n",
      "0         5    1165  \n",
      "1         5    1165  \n",
      "2         5    1165  \n",
      "3         5    1165  \n",
      "4         5    1170  \n",
      "...     ...     ...  \n",
      "1431      5    1025  \n",
      "1432      5    1015  \n",
      "1433      5    1015  \n",
      "1434      5    1015  \n",
      "1435      5    1114  \n",
      "\n",
      "[1435 rows x 10 columns]\n"
     ]
    }
   ],
   "source": [
    "features=data.drop('Price',axis=1)\n",
    "print(features)"
   ]
  },
  {
   "cell_type": "code",
   "execution_count": 14,
   "id": "18336507",
   "metadata": {},
   "outputs": [],
   "source": [
    "from sklearn.model_selection import train_test_split\n",
    "from sklearn.linear_model import LinearRegression\n",
    "\n",
    "x_train,x_test,y_train,y_test=train_test_split(target,features,test_size=0.25, random_state=50)"
   ]
  },
  {
   "cell_type": "code",
   "execution_count": 15,
   "id": "57c20008",
   "metadata": {},
   "outputs": [
    {
     "name": "stdout",
     "output_type": "stream",
     "text": [
      "(1076, 1)\n",
      "(359, 1)\n",
      "(1076, 10)\n",
      "(359, 10)\n"
     ]
    }
   ],
   "source": [
    "print(x_train.shape)\n",
    "print(x_test.shape)\n",
    "print(y_train.shape)\n",
    "print(y_test.shape)"
   ]
  },
  {
   "cell_type": "code",
   "execution_count": 30,
   "id": "c57ea408",
   "metadata": {},
   "outputs": [
    {
     "data": {
      "text/plain": [
       "0.24695325629224302"
      ]
     },
     "execution_count": 30,
     "metadata": {},
     "output_type": "execute_result"
    }
   ],
   "source": [
    "multi_LR=LinearRegression()\n",
    "\n",
    "multi_LR.fit(x_train,y_train)\n",
    "multi_LR.score(x_test,y_test)"
   ]
  },
  {
   "cell_type": "code",
   "execution_count": 25,
   "id": "3a1d2260",
   "metadata": {},
   "outputs": [
    {
     "data": {
      "text/plain": [
       "array([[-4.47123230e-03],\n",
       "       [-5.88091123e+00],\n",
       "       [-2.25690404e-06],\n",
       "       [ 1.16573913e-03],\n",
       "       [ 7.04591056e-07],\n",
       "       [ 8.63603225e-03],\n",
       "       [ 5.33272118e-05],\n",
       "       [ 0.00000000e+00],\n",
       "       [ 2.31786887e-06],\n",
       "       [ 8.62928339e-03]])"
      ]
     },
     "execution_count": 25,
     "metadata": {},
     "output_type": "execute_result"
    }
   ],
   "source": [
    "multi_LR.coef_"
   ]
  },
  {
   "cell_type": "code",
   "execution_count": 26,
   "id": "76de62ac",
   "metadata": {},
   "outputs": [
    {
     "data": {
      "text/plain": [
       "array([1.03998103e+02, 1.31488435e+05, 1.88945091e+00, 8.88931600e+01,\n",
       "       4.35572590e-02, 1.47651108e+03, 3.48094552e+00, 4.00000000e+00,\n",
       "       5.00208844e+00, 9.80152249e+02])"
      ]
     },
     "execution_count": 26,
     "metadata": {},
     "output_type": "execute_result"
    }
   ],
   "source": [
    "multi_LR.intercept_"
   ]
  },
  {
   "cell_type": "code",
   "execution_count": 17,
   "id": "423d91b5",
   "metadata": {},
   "outputs": [
    {
     "data": {
      "text/plain": [
       "array([[ 6.62161900e+01,  8.17947355e+04,  1.87038008e+00, ...,\n",
       "         4.00000000e+00,  5.02167443e+00,  1.05306969e+03],\n",
       "       [ 7.38172849e+01,  9.17922846e+04,  1.87421681e+00, ...,\n",
       "         4.00000000e+00,  5.01773405e+00,  1.03839991e+03],\n",
       "       [ 5.05668769e+01,  6.12115462e+04,  1.86248091e+00, ...,\n",
       "         4.00000000e+00,  5.02978697e+00,  1.08327219e+03],\n",
       "       ...,\n",
       "       [-5.54708841e+00, -1.25938897e+04,  1.83415677e+00, ...,\n",
       "         4.00000000e+00,  5.05887623e+00,  1.19156969e+03],\n",
       "       [ 6.15213961e+01,  7.56197788e+04,  1.86801033e+00, ...,\n",
       "         4.00000000e+00,  5.02410819e+00,  1.06213044e+03],\n",
       "       [ 5.95093415e+01,  7.29733687e+04,  1.86699472e+00, ...,\n",
       "         4.00000000e+00,  5.02515123e+00,  1.06601362e+03]])"
      ]
     },
     "execution_count": 17,
     "metadata": {},
     "output_type": "execute_result"
    }
   ],
   "source": [
    "from sklearn.metrics import r2_score\n",
    "\n",
    "y_predict=multi_LR.predict(x_test)\n",
    "y_predict"
   ]
  },
  {
   "cell_type": "code",
   "execution_count": 18,
   "id": "ba160456",
   "metadata": {},
   "outputs": [
    {
     "data": {
      "text/plain": [
       "0.24695325629224302"
      ]
     },
     "execution_count": 18,
     "metadata": {},
     "output_type": "execute_result"
    }
   ],
   "source": [
    "r2_score(y_test,y_predict)"
   ]
  },
  {
   "cell_type": "code",
   "execution_count": 19,
   "id": "31fde69e",
   "metadata": {},
   "outputs": [
    {
     "data": {
      "text/html": [
       "<div>\n",
       "<style scoped>\n",
       "    .dataframe tbody tr th:only-of-type {\n",
       "        vertical-align: middle;\n",
       "    }\n",
       "\n",
       "    .dataframe tbody tr th {\n",
       "        vertical-align: top;\n",
       "    }\n",
       "\n",
       "    .dataframe thead th {\n",
       "        text-align: right;\n",
       "    }\n",
       "</style>\n",
       "<table border=\"1\" class=\"dataframe\">\n",
       "  <thead>\n",
       "    <tr style=\"text-align: right;\">\n",
       "      <th></th>\n",
       "      <th>0</th>\n",
       "      <th>1</th>\n",
       "      <th>2</th>\n",
       "      <th>3</th>\n",
       "      <th>4</th>\n",
       "      <th>5</th>\n",
       "      <th>6</th>\n",
       "      <th>7</th>\n",
       "      <th>8</th>\n",
       "      <th>9</th>\n",
       "    </tr>\n",
       "  </thead>\n",
       "  <tbody>\n",
       "    <tr>\n",
       "      <th>0</th>\n",
       "      <td>66.216190</td>\n",
       "      <td>81794.735547</td>\n",
       "      <td>1.870380</td>\n",
       "      <td>98.743656</td>\n",
       "      <td>0.049511</td>\n",
       "      <td>1549.485555</td>\n",
       "      <td>3.931560</td>\n",
       "      <td>4.0</td>\n",
       "      <td>5.021674</td>\n",
       "      <td>1053.069693</td>\n",
       "    </tr>\n",
       "    <tr>\n",
       "      <th>1</th>\n",
       "      <td>73.817285</td>\n",
       "      <td>91792.284637</td>\n",
       "      <td>1.874217</td>\n",
       "      <td>96.761899</td>\n",
       "      <td>0.048313</td>\n",
       "      <td>1534.804300</td>\n",
       "      <td>3.840904</td>\n",
       "      <td>4.0</td>\n",
       "      <td>5.017734</td>\n",
       "      <td>1038.399912</td>\n",
       "    </tr>\n",
       "    <tr>\n",
       "      <th>2</th>\n",
       "      <td>50.566877</td>\n",
       "      <td>61211.546244</td>\n",
       "      <td>1.862481</td>\n",
       "      <td>102.823743</td>\n",
       "      <td>0.051977</td>\n",
       "      <td>1579.711668</td>\n",
       "      <td>4.118206</td>\n",
       "      <td>4.0</td>\n",
       "      <td>5.029787</td>\n",
       "      <td>1083.272185</td>\n",
       "    </tr>\n",
       "    <tr>\n",
       "      <th>3</th>\n",
       "      <td>64.204135</td>\n",
       "      <td>79148.325494</td>\n",
       "      <td>1.869364</td>\n",
       "      <td>99.268238</td>\n",
       "      <td>0.049828</td>\n",
       "      <td>1553.371769</td>\n",
       "      <td>3.955558</td>\n",
       "      <td>4.0</td>\n",
       "      <td>5.022717</td>\n",
       "      <td>1056.952871</td>\n",
       "    </tr>\n",
       "    <tr>\n",
       "      <th>4</th>\n",
       "      <td>39.835919</td>\n",
       "      <td>47097.359294</td>\n",
       "      <td>1.857064</td>\n",
       "      <td>105.621516</td>\n",
       "      <td>0.053668</td>\n",
       "      <td>1600.438145</td>\n",
       "      <td>4.246191</td>\n",
       "      <td>4.0</td>\n",
       "      <td>5.035350</td>\n",
       "      <td>1103.982465</td>\n",
       "    </tr>\n",
       "    <tr>\n",
       "      <th>...</th>\n",
       "      <td>...</td>\n",
       "      <td>...</td>\n",
       "      <td>...</td>\n",
       "      <td>...</td>\n",
       "      <td>...</td>\n",
       "      <td>...</td>\n",
       "      <td>...</td>\n",
       "      <td>...</td>\n",
       "      <td>...</td>\n",
       "      <td>...</td>\n",
       "    </tr>\n",
       "    <tr>\n",
       "      <th>354</th>\n",
       "      <td>67.110436</td>\n",
       "      <td>82970.917793</td>\n",
       "      <td>1.870831</td>\n",
       "      <td>98.510508</td>\n",
       "      <td>0.049370</td>\n",
       "      <td>1547.758348</td>\n",
       "      <td>3.920895</td>\n",
       "      <td>4.0</td>\n",
       "      <td>5.021211</td>\n",
       "      <td>1051.343837</td>\n",
       "    </tr>\n",
       "    <tr>\n",
       "      <th>355</th>\n",
       "      <td>68.451806</td>\n",
       "      <td>84735.191162</td>\n",
       "      <td>1.871509</td>\n",
       "      <td>98.160786</td>\n",
       "      <td>0.049159</td>\n",
       "      <td>1545.167539</td>\n",
       "      <td>3.904897</td>\n",
       "      <td>4.0</td>\n",
       "      <td>5.020515</td>\n",
       "      <td>1048.755052</td>\n",
       "    </tr>\n",
       "    <tr>\n",
       "      <th>356</th>\n",
       "      <td>-5.547088</td>\n",
       "      <td>-12593.889684</td>\n",
       "      <td>1.834157</td>\n",
       "      <td>117.453769</td>\n",
       "      <td>0.060820</td>\n",
       "      <td>1688.093872</td>\n",
       "      <td>4.787462</td>\n",
       "      <td>4.0</td>\n",
       "      <td>5.058876</td>\n",
       "      <td>1191.569692</td>\n",
       "    </tr>\n",
       "    <tr>\n",
       "      <th>357</th>\n",
       "      <td>61.521396</td>\n",
       "      <td>75619.778756</td>\n",
       "      <td>1.868010</td>\n",
       "      <td>99.967682</td>\n",
       "      <td>0.050251</td>\n",
       "      <td>1558.553389</td>\n",
       "      <td>3.987554</td>\n",
       "      <td>4.0</td>\n",
       "      <td>5.024108</td>\n",
       "      <td>1062.130441</td>\n",
       "    </tr>\n",
       "    <tr>\n",
       "      <th>358</th>\n",
       "      <td>59.509342</td>\n",
       "      <td>72973.368703</td>\n",
       "      <td>1.866995</td>\n",
       "      <td>100.492264</td>\n",
       "      <td>0.050568</td>\n",
       "      <td>1562.439603</td>\n",
       "      <td>4.011551</td>\n",
       "      <td>4.0</td>\n",
       "      <td>5.025151</td>\n",
       "      <td>1066.013619</td>\n",
       "    </tr>\n",
       "  </tbody>\n",
       "</table>\n",
       "<p>359 rows × 10 columns</p>\n",
       "</div>"
      ],
      "text/plain": [
       "             0             1         2           3         4            5  \\\n",
       "0    66.216190  81794.735547  1.870380   98.743656  0.049511  1549.485555   \n",
       "1    73.817285  91792.284637  1.874217   96.761899  0.048313  1534.804300   \n",
       "2    50.566877  61211.546244  1.862481  102.823743  0.051977  1579.711668   \n",
       "3    64.204135  79148.325494  1.869364   99.268238  0.049828  1553.371769   \n",
       "4    39.835919  47097.359294  1.857064  105.621516  0.053668  1600.438145   \n",
       "..         ...           ...       ...         ...       ...          ...   \n",
       "354  67.110436  82970.917793  1.870831   98.510508  0.049370  1547.758348   \n",
       "355  68.451806  84735.191162  1.871509   98.160786  0.049159  1545.167539   \n",
       "356  -5.547088 -12593.889684  1.834157  117.453769  0.060820  1688.093872   \n",
       "357  61.521396  75619.778756  1.868010   99.967682  0.050251  1558.553389   \n",
       "358  59.509342  72973.368703  1.866995  100.492264  0.050568  1562.439603   \n",
       "\n",
       "            6    7         8            9  \n",
       "0    3.931560  4.0  5.021674  1053.069693  \n",
       "1    3.840904  4.0  5.017734  1038.399912  \n",
       "2    4.118206  4.0  5.029787  1083.272185  \n",
       "3    3.955558  4.0  5.022717  1056.952871  \n",
       "4    4.246191  4.0  5.035350  1103.982465  \n",
       "..        ...  ...       ...          ...  \n",
       "354  3.920895  4.0  5.021211  1051.343837  \n",
       "355  3.904897  4.0  5.020515  1048.755052  \n",
       "356  4.787462  4.0  5.058876  1191.569692  \n",
       "357  3.987554  4.0  5.024108  1062.130441  \n",
       "358  4.011551  4.0  5.025151  1066.013619  \n",
       "\n",
       "[359 rows x 10 columns]"
      ]
     },
     "execution_count": 19,
     "metadata": {},
     "output_type": "execute_result"
    }
   ],
   "source": [
    "final=pd.DataFrame(y_predict)\n",
    "final"
   ]
  },
  {
   "cell_type": "code",
   "execution_count": 38,
   "id": "8ff4dfba",
   "metadata": {},
   "outputs": [
    {
     "data": {
      "text/plain": [
       "Text(0, 0.5, 'Price')"
      ]
     },
     "execution_count": 38,
     "metadata": {},
     "output_type": "execute_result"
    },
    {
     "data": {
      "image/png": "[encoded data removed]",
      "text/plain": [
       "<Figure size 640x480 with 1 Axes>"
      ]
     },
     "metadata": {},
     "output_type": "display_data"
    }
   ],
   "source": [
    "plt.scatter(data.Price,data.KM)\n",
    "plt.xlabel('KM', size=15)\n",
    "plt.ylabel('Price', size=15)"
   ]
  },
  {
   "cell_type": "code",
   "execution_count": 42,
   "id": "34e36d84",
   "metadata": {},
   "outputs": [
    {
     "data": {
      "text/plain": [
       "Text(0, 0.5, 'Price')"
      ]
     },
     "execution_count": 42,
     "metadata": {},
     "output_type": "execute_result"
    },
    {
     "data": {
      "image/png": "[encoded data removed]",
      "text/plain": [
       "<Figure size 640x480 with 1 Axes>"
      ]
     },
     "metadata": {},
     "output_type": "display_data"
    }
   ],
   "source": [
    "plt.scatter(data.Weight, data.Price,)\n",
    "plt.xlabel('Weight', size=15)\n",
    "plt.ylabel('Price', size=15)"
   ]
  },
  {
   "cell_type": "code",
   "execution_count": 27,
   "id": "f379380a",
   "metadata": {},
   "outputs": [],
   "source": [
    "from sklearn.linear_model import Ridge, Lasso"
   ]
  },
  {
   "cell_type": "code",
   "execution_count": 28,
   "id": "bdb50918",
   "metadata": {},
   "outputs": [
    {
     "data": {
      "text/plain": [
       "0.24695325629216408"
      ]
     },
     "execution_count": 28,
     "metadata": {},
     "output_type": "execute_result"
    }
   ],
   "source": [
    "rd=Ridge()\n",
    "\n",
    "rd.fit(x_train,y_train)\n",
    "rd.score(x_test,y_test)"
   ]
  },
  {
   "cell_type": "code",
   "execution_count": 29,
   "id": "25362a83",
   "metadata": {},
   "outputs": [
    {
     "data": {
      "text/plain": [
       "0.24692368918094892"
      ]
     },
     "execution_count": 29,
     "metadata": {},
     "output_type": "execute_result"
    }
   ],
   "source": [
    "ls=Lasso()\n",
    "\n",
    "ls.fit(x_train,y_train)\n",
    "ls.score(x_test,y_test)"
   ]
  },
  {
   "cell_type": "markdown",
   "id": "f322e21f",
   "metadata": {},
   "source": [
    "### Interview Questions:"
   ]
  },
  {
   "cell_type": "markdown",
   "id": "22d1cf63",
   "metadata": {},
   "source": [
    " ##### 1.What is Normalization & Standardization and how is it helpful?"
   ]
  },
  {
   "cell_type": "raw",
   "id": "19b41fb0",
   "metadata": {},
   "source": [
    "Normalization and standardization are statistical techniques used to transform data to a standard scale. \n",
    "Normalization involves scaling data to fit within a specific range, \n",
    "while standardization involves scaling data to have a mean of zero and a standard deviation of one.\n",
    "\n",
    "these techniques can help to improve model performance, reduce the impact of outliers,and ensure that the data is on the same scale."
   ]
  },
  {
   "cell_type": "markdown",
   "id": "389711a1",
   "metadata": {},
   "source": [
    "##### 2.What techniques can be used to address multicollinearity in multiple linear regression?"
   ]
  },
  {
   "cell_type": "raw",
   "id": "5045c162",
   "metadata": {},
   "source": [
    "Multicollinearity occurs when two or more independent variables in a regression model are highly correlated with each other.\n",
    "\n",
    "There are several techniques that can be used to address multicollinearity, including:\n",
    "Principal Component Analysis (PCA): This technique can be used to reduce the dimensionality of the data by creating new variables that are linear combinations of the original variables.\n",
    "\n",
    "Ridge Regression: This technique adds a penalty term to the regression equation to reduce the variance of the model coefficients.\n",
    "\n",
    "Lasso Regression: This technique adds a penalty term to the regression equation that shrinks the coefficients of the less important variables to zero, effectively removing them from the model."
   ]
  },
  {
   "cell_type": "code",
   "execution_count": null,
   "id": "0c4f17ca",
   "metadata": {},
   "outputs": [],
   "source": []
  },
  {
   "cell_type": "code",
   "execution_count": null,
   "id": "1346548e",
   "metadata": {},
   "outputs": [],
   "source": []
  },
  {
   "cell_type": "code",
   "execution_count": null,
   "id": "6f6fc768",
   "metadata": {},
   "outputs": [],
   "source": []
  },
  {
   "cell_type": "code",
   "execution_count": null,
   "id": "dad9f9a3",
   "metadata": {},
   "outputs": [],
   "source": []
  }
 ],
 "metadata": {
  "kernelspec": {
   "display_name": "Python 3 (ipykernel)",
   "language": "python",
   "name": "python3"
  },
  "language_info": {
   "codemirror_mode": {
    "name": "ipython",
    "version": 3
   },
   "file_extension": ".py",
   "mimetype": "text/x-python",
   "name": "python",
   "nbconvert_exporter": "python",
   "pygments_lexer": "ipython3",
   "version": "3.11.5"
  }
 },
 "nbformat": 4,
 "nbformat_minor": 5
}
