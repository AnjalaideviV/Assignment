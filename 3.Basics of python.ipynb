{
 "cells": [
  {
   "cell_type": "markdown",
   "id": "7ea456b4",
   "metadata": {},
   "source": [
    "### Exercise 1: Prime Numbers"
   ]
  },
  {
   "cell_type": "raw",
   "id": "47e11f35",
   "metadata": {},
   "source": [
    "Write a Python program that checks whether a given number is prime or not. A prime number is a natural number greater than 1 that has no positive divisors other than 1 and itself.\n"
   ]
  },
  {
   "cell_type": "code",
   "execution_count": 11,
   "id": "f8a1472f",
   "metadata": {},
   "outputs": [
    {
     "name": "stdout",
     "output_type": "stream",
     "text": [
      "Enter the number:5\n",
      "5 is a prime number\n"
     ]
    }
   ],
   "source": [
    "n=int(input('Enter the number:'))\n",
    "\n",
    "for i in range(2,n):\n",
    "\n",
    "    if n%i==0:\n",
    "        print(n,'number is not prime number')\n",
    "        break\n",
    "else:\n",
    "    print(n,'is a prime number')"
   ]
  },
  {
   "cell_type": "markdown",
   "id": "b8de7186",
   "metadata": {},
   "source": [
    "## Exercise 2: Product of Random Numbers"
   ]
  },
  {
   "cell_type": "raw",
   "id": "decaacab",
   "metadata": {},
   "source": [
    "Develop a Python program that generates two random numbers and asks the user to enter the product of these numbers. The program should then check if the user's answer is correct and display an appropriate message."
   ]
  },
  {
   "cell_type": "code",
   "execution_count": 12,
   "id": "41e0218f",
   "metadata": {},
   "outputs": [
    {
     "name": "stdout",
     "output_type": "stream",
     "text": [
      "Array a: [4 5 6 9 5]\n",
      "Array b: [8 6 4 4 7]\n",
      "Enter the product number: 54569\n",
      "Sorry, your answer is incorrect. The actual product is 29030400\n"
     ]
    }
   ],
   "source": [
    "import numpy as np\n",
    "\n",
    "a = np.random.randint(1, 10, size=5)\n",
    "b = np.random.randint(1, 10, size=5)\n",
    "print(\"Array a:\", a)\n",
    "print(\"Array b:\", b)\n",
    "\n",
    "user_input = int(input('Enter the product number: '))\n",
    "\n",
    "product = np.prod(a) * np.prod(b)\n",
    "\n",
    "if user_input == product:\n",
    "    print(\"Congratulations! Your answer is correct.\")\n",
    "else:\n",
    "    print(\"Sorry, your answer is incorrect. The actual product is\", product)\n"
   ]
  },
  {
   "cell_type": "markdown",
   "id": "3e8f286d",
   "metadata": {},
   "source": [
    "## Exercise 3: Squares of Even/Odd Numbers"
   ]
  },
  {
   "cell_type": "raw",
   "id": "1ea53060",
   "metadata": {},
   "source": [
    "Create a Python script that prints the squares of all even or odd numbers within the range of 100 to 200. Choose either even or odd numbers and document your choice in the code."
   ]
  },
  {
   "cell_type": "code",
   "execution_count": 30,
   "id": "f8dfc4f8",
   "metadata": {},
   "outputs": [
    {
     "name": "stdout",
     "output_type": "stream",
     "text": [
      "10000\n",
      "10000\n",
      "10404\n",
      "10404\n",
      "10816\n",
      "10816\n",
      "11236\n",
      "11236\n",
      "11664\n",
      "11664\n",
      "12100\n",
      "12100\n",
      "12544\n",
      "12544\n",
      "12996\n",
      "12996\n",
      "13456\n",
      "13456\n",
      "13924\n",
      "13924\n",
      "14400\n",
      "14400\n",
      "14884\n",
      "14884\n",
      "15376\n",
      "15376\n",
      "15876\n",
      "15876\n",
      "16384\n",
      "16384\n",
      "16900\n",
      "16900\n",
      "17424\n",
      "17424\n",
      "17956\n",
      "17956\n",
      "18496\n",
      "18496\n",
      "19044\n",
      "19044\n",
      "19600\n",
      "19600\n",
      "20164\n",
      "20164\n",
      "20736\n",
      "20736\n",
      "21316\n",
      "21316\n",
      "21904\n",
      "21904\n",
      "22500\n",
      "22500\n",
      "23104\n",
      "23104\n",
      "23716\n",
      "23716\n",
      "24336\n",
      "24336\n",
      "24964\n",
      "24964\n",
      "25600\n",
      "25600\n",
      "26244\n",
      "26244\n",
      "26896\n",
      "26896\n",
      "27556\n",
      "27556\n",
      "28224\n",
      "28224\n",
      "28900\n",
      "28900\n",
      "29584\n",
      "29584\n",
      "30276\n",
      "30276\n",
      "30976\n",
      "30976\n",
      "31684\n",
      "31684\n",
      "32400\n",
      "32400\n",
      "33124\n",
      "33124\n",
      "33856\n",
      "33856\n",
      "34596\n",
      "34596\n",
      "35344\n",
      "35344\n",
      "36100\n",
      "36100\n",
      "36864\n",
      "36864\n",
      "37636\n",
      "37636\n",
      "38416\n",
      "38416\n",
      "39204\n",
      "39204\n",
      "40000\n"
     ]
    }
   ],
   "source": [
    "for i in range(100,201):\n",
    "    if i%2==0:\n",
    "        square=i**2\n",
    "    print(square)\n",
    "    "
   ]
  },
  {
   "cell_type": "markdown",
   "id": "d3db16d4",
   "metadata": {},
   "source": [
    "# Exercise 4: Word counter"
   ]
  },
  {
   "cell_type": "raw",
   "id": "a1fbebfc",
   "metadata": {},
   "source": [
    "write a program to count the number of words in a given text.\n",
    "example:\n",
    "input_text = \"This is a sample text. This text will be used to demonstrate the word counter.\"\n",
    "Expected output:\n",
    "'This': 2 \n",
    "'is': 1\n",
    "'a': 1\n",
    "'sample': 1\n",
    "'text.': 1\n",
    "\n"
   ]
  },
  {
   "cell_type": "code",
   "execution_count": 6,
   "id": "ed6bd24e",
   "metadata": {},
   "outputs": [
    {
     "name": "stdout",
     "output_type": "stream",
     "text": [
      "{'This': 2, 'is': 1, 'a': 1, 'sample': 1, 'text.': 1, 'text': 1, 'will': 1, 'be': 1, 'used': 1, 'to': 1, 'demonstrate': 1, 'the': 1, 'word': 1, 'counter.': 1}\n"
     ]
    }
   ],
   "source": [
    "input_text = (\"This is a sample text. This text will be used to demonstrate the word counter.\")\n",
    "l=input_text.split()\n",
    "d={}\n",
    "for i in l:\n",
    "    if i not in d.keys():\n",
    "        d[i]=0\n",
    "    d[i] = d[i] +1\n",
    "print(d)\n",
    "\n"
   ]
  },
  {
   "cell_type": "markdown",
   "id": "ce851984",
   "metadata": {},
   "source": [
    "# Exercise 5: Check for Palindrome"
   ]
  },
  {
   "cell_type": "raw",
   "id": "5377cd74",
   "metadata": {},
   "source": [
    "Write a Python function called is_palindrome that takes a string as input and returns True if the string is a palindrome, and False otherwise. A palindrome is a word, phrase, number, or other sequence of characters that reads the same forward and backward, ignoring spaces, punctuation, and capitalization.\n",
    "Example:\n",
    "Input: \"racecar\"\n",
    "Expected Output: True\n"
   ]
  },
  {
   "cell_type": "code",
   "execution_count": 23,
   "id": "f76b44a2",
   "metadata": {},
   "outputs": [
    {
     "name": "stdout",
     "output_type": "stream",
     "text": [
      " Enter the word: racecar\n",
      "True\n"
     ]
    }
   ],
   "source": [
    "s=input(' Enter the word: ')\n",
    "Reverse_string=(s[::-1])\n",
    "if word==Reverse_string:\n",
    "    print(True)\n",
    "else:\n",
    "    print(False)"
   ]
  },
  {
   "cell_type": "code",
   "execution_count": null,
   "id": "b7a93372",
   "metadata": {},
   "outputs": [],
   "source": []
  },
  {
   "cell_type": "code",
   "execution_count": null,
   "id": "b05d71e9",
   "metadata": {},
   "outputs": [],
   "source": []
  },
  {
   "cell_type": "code",
   "execution_count": null,
   "id": "e71327c6",
   "metadata": {},
   "outputs": [],
   "source": []
  },
  {
   "cell_type": "code",
   "execution_count": null,
   "id": "f2a2587c",
   "metadata": {},
   "outputs": [],
   "source": []
  }
 ],
 "metadata": {
  "kernelspec": {
   "display_name": "Python 3 (ipykernel)",
   "language": "python",
   "name": "python3"
  },
  "language_info": {
   "codemirror_mode": {
    "name": "ipython",
    "version": 3
   },
   "file_extension": ".py",
   "mimetype": "text/x-python",
   "name": "python",
   "nbconvert_exporter": "python",
   "pygments_lexer": "ipython3",
   "version": "3.11.5"
  }
 },
 "nbformat": 4,
 "nbformat_minor": 5
}
